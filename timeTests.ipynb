{
 "cells": [
  {
   "cell_type": "code",
   "execution_count": 2,
   "metadata": {},
   "outputs": [],
   "source": [
    "# importing required files\n",
    "import time\n",
    "import sys\n",
    "import random\n",
    "import numpy as np\n",
    "from register.QuantumRegister import *\n",
    "from register.grovers import *\n",
    "from register.deutsch import * \n",
    "from register.deutschJozsa import * \n",
    "import matplotlib.pyplot as plt \n",
    "from matplotlib.animation import FuncAnimation\n",
    "from IPython.display import HTML, display"
   ]
  },
  {
   "cell_type": "code",
   "execution_count": 8,
   "metadata": {},
   "outputs": [
    {
     "data": {
      "image/png": "[encoded data removed]",
      "text/plain": [
       "<Figure size 432x288 with 1 Axes>"
      ]
     },
     "metadata": {
      "needs_background": "light"
     },
     "output_type": "display_data"
    }
   ],
   "source": [
    "# Finds the time taken for grovers algorithm based on number of qubits in the register \n",
    "arr = np.arange(2, 15, dtype = int)\n",
    "times = []\n",
    "for i in arr:\n",
    "    t1 = time.time()\n",
    "    rand_list = np.arange(2**i)\n",
    "    target = np.random.randint(2**i - 1)\n",
    "    def oracle(register):\n",
    "        register.state_[target] *= -1\n",
    "        return register.state_\n",
    "    reg = QuantumRegister(int(i))\n",
    "    grover = Grovers(oracle, rand_list, reg)\n",
    "    grover.groversAlgorithm()\n",
    "    t2 = time.time()\n",
    "    times.append(t2-t1)\n",
    "\n",
    "\n",
    "plt.plot(arr, times, \"-\")\n",
    "plt.xlabel(\"Number of Qubits\")\n",
    "plt.ylabel(\"Time taken for a Grovers Iteration (seconds)\")\n",
    "plt.title(\"Time For Simple Oracle Grovers to run compared to number of qubits\")\n",
    "#plt.gca().xaxis.set_major_locator(ticker.MultipleLocator(1))\n",
    "plt.show()\n"
   ]
  },
  {
   "cell_type": "code",
   "execution_count": 9,
   "metadata": {},
   "outputs": [
    {
     "name": "stdout",
     "output_type": "stream",
     "text": [
      "0.002917051315307617\n"
     ]
    }
   ],
   "source": [
    "# balanced oracle function\n",
    "def balanced(register):\n",
    "    def oracle(a):\n",
    "\t    return a%2\n",
    "    for i in range(register.n_states_):\n",
    "\t    register.state_[i] *= (-1) ** oracle(i)\n",
    "    return register.state_\n",
    "\n",
    "#constant oracle function\n",
    "def constant(register):\n",
    "\tdef oracle(a):\n",
    "\t\treturn 0\n",
    "\tfor i in range(register.n_states_):\n",
    "\t\tregister.state_[i] *= (-1) ** oracle(i)\n",
    "\treturn register.state_\n",
    "\n",
    "# Finds the time taken for Deutsch algorithm based on the oracle function\n",
    "def deutschTimeElapsed():\n",
    "\tregister = QuantumRegister(2)\n",
    "\n",
    "\tdeutschBalanced = Deutsch(balanced, register)\n",
    "\ttimeInit = time.time()\n",
    "\tis_balanced_one = deutschBalanced.deutschAlgorithm()\n",
    "\ttimeBalanced = time.time() - timeInit\n",
    "\n",
    "\tregister = QuantumRegister(2)\n",
    "\t\n",
    "\tdeutschConstant = Deutsch(constant, register)\n",
    "\ttimeInit = time.time()\n",
    "\tis_balanced_two = deutschConstant.deutschAlgorithm()\n",
    "\ttimeConstant = time.time() - timeInit\n",
    "\n",
    "\treturn timeBalanced + timeConstant\n",
    "\t\n",
    "\n",
    "\t\n",
    "print(deutschTimeElapsed())"
   ]
  },
  {
   "cell_type": "code",
   "execution_count": 10,
   "metadata": {},
   "outputs": [],
   "source": [
    "# balanced oracle\n",
    "def balanced(register):\n",
    "\t\n",
    "    def oracle(a):\n",
    "\t    return a%2\n",
    "\t\n",
    "\t\n",
    "    for i in range(register.n_states_):\n",
    "\t    register.state_[i] *= (-1) ** oracle(i)\n",
    "    \n",
    "    return register.state_\n",
    "\n",
    "#constant oracle function\n",
    "def constant(register):\n",
    "\tdef oracle(a):\n",
    "\t\treturn 0\n",
    "\tfor i in range(register.n_states_):\n",
    "\t\tregister.state_[i] *= (-1) ** oracle(i)\n",
    "\treturn register.state_\n",
    "\n",
    "def dJTimeElapsed(n_qubits):\n",
    "\t# This function is used to run the deutsch algorithm, it uses examples for both balanced and constant functions\n",
    "\t# The deutsch algorithm is used to evaluate a black box algorithm using a basic quantum circuit, for all constant \n",
    "\t# functions our implementation will produce a 0 and for all balanced, a 1\n",
    "\n",
    "\tregister = QuantumRegister(n_qubits)\n",
    "\n",
    "\tdJBalanced = DeutschJozsa(balanced,register)\n",
    "\ttimeInit = time.time()\n",
    "\tis_balanced_one = dJBalanced.deutschJozsaAlgorithm()\n",
    "\ttimeBalanced = time.time() - timeInit\n",
    "\n",
    "\tregister = QuantumRegister(n_qubits)\n",
    "\t\n",
    "\tdJConstant = DeutschJozsa(constant,register)\n",
    "\ttimeInit = time.time()\n",
    "\tis_balanced_two = dJConstant.deutschJozsaAlgorithm()\n",
    "\ttimeConstant = time.time() - timeInit\n",
    "\n",
    "\treturn timeBalanced + timeConstant\n"
   ]
  },
  {
   "cell_type": "code",
   "execution_count": 13,
   "metadata": {},
   "outputs": [
    {
     "name": "stdout",
     "output_type": "stream",
     "text": [
      "2 QUBIT INIT DJ\n",
      "Time elapsed 0.002909421920776367\n",
      "\n",
      "3 QUBIT INIT DJ\n",
      "Time elapsed 0.003002643585205078\n",
      "\n",
      "4 QUBIT INIT DJ\n",
      "Time elapsed 0.00422215461730957\n",
      "\n",
      "5 QUBIT INIT DJ\n",
      "Time elapsed 0.004134654998779297\n",
      "\n",
      "6 QUBIT INIT DJ\n",
      "Time elapsed 0.00669550895690918\n",
      "\n",
      "7 QUBIT INIT DJ\n",
      "Time elapsed 0.008594512939453125\n",
      "\n",
      "8 QUBIT INIT DJ\n",
      "Time elapsed 0.017617464065551758\n",
      "\n",
      "9 QUBIT INIT DJ\n",
      "Time elapsed 0.030852794647216797\n",
      "\n",
      "10 QUBIT INIT DJ\n",
      "Time elapsed 0.05336475372314453\n",
      "\n",
      "11 QUBIT INIT DJ\n",
      "Time elapsed 0.12213659286499023\n",
      "\n",
      "12 QUBIT INIT DJ\n",
      "Time elapsed 0.29126691818237305\n",
      "\n",
      "13 QUBIT INIT DJ\n",
      "Time elapsed 0.6349587440490723\n",
      "\n",
      "14 QUBIT INIT DJ\n",
      "Time elapsed 1.0544800758361816\n",
      "\n",
      "15 QUBIT INIT DJ\n",
      "Time elapsed 2.4762208461761475\n",
      "\n",
      "16 QUBIT INIT DJ\n",
      "Time elapsed 5.014905214309692\n",
      "\n",
      "17 QUBIT INIT DJ\n",
      "Time elapsed 10.994085550308228\n",
      "\n",
      "18 QUBIT INIT DJ\n",
      "Time elapsed 23.274794101715088\n",
      "\n",
      "19 QUBIT INIT DJ\n",
      "Time elapsed 49.135623931884766\n",
      "\n",
      "20 QUBIT INIT DJ\n",
      "Time elapsed 108.5778636932373\n",
      "\n"
     ]
    },
    {
     "data": {
      "image/png": "[encoded data removed]",
      "text/plain": [
       "<Figure size 432x288 with 1 Axes>"
      ]
     },
     "metadata": {
      "needs_background": "light"
     },
     "output_type": "display_data"
    }
   ],
   "source": [
    "# code to plot the time taken for the Deutsch Jozsa algorithm to run based on the number of qubits\n",
    "\n",
    "qubitMin = 2\n",
    "qubitMax = 20\n",
    "timeLimit = 600\n",
    "\n",
    "qubitList = list(range(qubitMin,qubitMax+1))\n",
    "timeElapsed = list(range(qubitMin,qubitMax+1))\n",
    "\n",
    "for i in range(len(qubitList)):\n",
    "    n_qubits = qubitList[i]\n",
    "    print(n_qubits,\"QUBIT INIT DJ\")\n",
    "    timeElapsed[i] = dJTimeElapsed(n_qubits)\n",
    "    print(\"Time elapsed\",timeElapsed[i])\n",
    "    print()\n",
    "    if timeElapsed[i] > timeLimit:\n",
    "        break\n",
    "plt.plot(qubitList, timeElapsed, \"-\")\n",
    "plt.xlabel(\"Number of Qubits\")\n",
    "plt.ylabel(\"Time taken for a DJ Iteration\")\n",
    "plt.title(\"Time For DJ to run\")\n",
    "#plt.gca().xaxis.set_major_locator(mticker.MultipleLocator(1))\n",
    "plt.show()"
   ]
  },
  {
   "cell_type": "code",
   "execution_count": 14,
   "metadata": {},
   "outputs": [],
   "source": [
    "# code to plot the time taken for the Grovers algorithm to run based on the number of qubits\n",
    "\t\n",
    "def groversTimeElapsed(n_qubits):\n",
    "\n",
    "    listLength = int(2**n_qubits)\n",
    "    groverList = np.zeros(listLength)\n",
    "    assert n_qubits == int(np.ceil(np.log2(listLength)))\n",
    "\n",
    "    target = random.randint(0,listLength-1)\n",
    "    register = QuantumRegister(n_qubits)\n",
    "\n",
    "    def groverOracle(register):\n",
    "\n",
    "      def oracle(a):\n",
    "        bit = 0\n",
    "        if a == target:\n",
    "          bit = 1\n",
    "        return bit\n",
    "\t\t\n",
    "      for i in range(register.n_states_):\n",
    "        register.state_[i] *= (-1) ** oracle(i)\n",
    "      return register.state_\n",
    "    \n",
    "    startTime = time.process_time()\n",
    "    result = Grovers(groverOracle, groverList, register)\n",
    "    result.groversAlgorithm()\n",
    "    timeElapsed = time.process_time() - startTime\n",
    "    return timeElapsed"
   ]
  },
  {
   "cell_type": "code",
   "execution_count": 15,
   "metadata": {},
   "outputs": [
    {
     "name": "stdout",
     "output_type": "stream",
     "text": [
      "2 QUBIT INIT GROVERS\n",
      "Time elapsed 0.0007081999999627442\n",
      "\n",
      "3 QUBIT INIT GROVERS\n",
      "Time elapsed 0.0007420000000024629\n",
      "\n",
      "4 QUBIT INIT GROVERS\n",
      "Time elapsed 0.0010246999999594664\n",
      "\n",
      "5 QUBIT INIT GROVERS\n",
      "Time elapsed 0.0016267999999968197\n",
      "\n",
      "6 QUBIT INIT GROVERS\n",
      "Time elapsed 0.002382099999977072\n",
      "\n",
      "7 QUBIT INIT GROVERS\n",
      "Time elapsed 0.010509300000023813\n",
      "\n",
      "8 QUBIT INIT GROVERS\n",
      "Time elapsed 0.008479000000022552\n",
      "\n",
      "9 QUBIT INIT GROVERS\n",
      "Time elapsed 0.021317199999998593\n",
      "\n",
      "10 QUBIT INIT GROVERS\n",
      "Time elapsed 0.048753999999973985\n",
      "\n",
      "11 QUBIT INIT GROVERS\n",
      "Time elapsed 0.13747150000000374\n",
      "\n",
      "12 QUBIT INIT GROVERS\n",
      "Time elapsed 0.3117424000000142\n",
      "\n",
      "13 QUBIT INIT GROVERS\n",
      "Time elapsed 0.8194194999999809\n",
      "\n",
      "14 QUBIT INIT GROVERS\n",
      "Time elapsed 2.1767381999999884\n",
      "\n",
      "15 QUBIT INIT GROVERS\n",
      "Time elapsed 5.542623800000001\n",
      "\n",
      "16 QUBIT INIT GROVERS\n",
      "Time elapsed 15.475285399999962\n",
      "\n",
      "17 QUBIT INIT GROVERS\n",
      "Time elapsed 40.17588549999999\n",
      "\n",
      "18 QUBIT INIT GROVERS\n",
      "Time elapsed 182.38096569999993\n",
      "\n"
     ]
    },
    {
     "data": {
      "image/png": "[encoded data removed]",
      "text/plain": [
       "<Figure size 432x288 with 1 Axes>"
      ]
     },
     "metadata": {
      "needs_background": "light"
     },
     "output_type": "display_data"
    }
   ],
   "source": [
    "# code to calculate and plot the time taken for the Grovers algorithm to run based on the number of qubits\n",
    "\n",
    "qubitMin = 2\n",
    "qubitMax = 18\n",
    "timeLimit = 600\n",
    "\n",
    "qubitList = list(range(qubitMin,qubitMax+1))\n",
    "timeElapsed = list(range(qubitMin,qubitMax+1))\n",
    "\n",
    "for i in range(len(qubitList)):\n",
    "    n_qubits = qubitList[i]\n",
    "    print(n_qubits,\"QUBIT INIT GROVERS\")\n",
    "    timeElapsed[i] = groversTimeElapsed(n_qubits)\n",
    "    print(\"Time elapsed\",timeElapsed[i])\n",
    "    print()\n",
    "    if timeElapsed[i] > timeLimit:\n",
    "        break\n",
    "plt.plot(qubitList, timeElapsed, \"-\")\n",
    "plt.xlabel(\"Number of Qubits\")\n",
    "plt.ylabel(\"Time taken for a Grovers Iteration (seconds)\")\n",
    "plt.title(\"Time For Grovers to run per number of qubits\")\n",
    "plt.show()"
   ]
  },
  {
   "cell_type": "code",
   "execution_count": null,
   "metadata": {},
   "outputs": [
    {
     "data": {
      "image/png": "[encoded data removed]",
      "text/plain": [
       "<Figure size 640x480 with 1 Axes>"
      ]
     },
     "metadata": {},
     "output_type": "display_data"
    }
   ],
   "source": [
    "# code to plot the time taken for the Deutsch algorithm to run based on the number of qubits\n",
    "\n",
    "def registerBitSize(n_qubits):\n",
    "    register = QuantumRegister(n_qubits)\n",
    "    return sys.getsizeof(register.state_)\n",
    "\n",
    "qubitMin = 2\n",
    "qubitMax = 16\n",
    "\n",
    "qubitList = list(range(qubitMin,qubitMax+1))\n",
    "qubitMemorySize = list(range(qubitMin,qubitMax+1))\n",
    "\n",
    "for i in range(len(qubitMemorySize)):\n",
    "    n_qubits = qubitList[i]\n",
    "    qubitMemorySize[i] = registerBitSize(n_qubits)\n",
    "\n",
    "plt.plot(qubitList, qubitMemorySize, \"-\")\n",
    "plt.xlabel(\"Number of Qubits\")\n",
    "plt.ylabel(\"Register Bit Size\")\n",
    "plt.title(\"Register bit use over Qubits\")\n",
    "plt.show()"
   ]
  }
 ],
 "metadata": {
  "kernelspec": {
   "display_name": "Python 3 (ipykernel)",
   "language": "python",
   "name": "python3"
  },
  "language_info": {
   "codemirror_mode": {
    "name": "ipython",
    "version": 3
   },
   "file_extension": ".py",
   "mimetype": "text/x-python",
   "name": "python",
   "nbconvert_exporter": "python",
   "pygments_lexer": "ipython3",
   "version": "3.10.6"
  },
  "orig_nbformat": 4
 },
 "nbformat": 4,
 "nbformat_minor": 2
}
