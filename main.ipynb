{
 "cells": [
  {
   "attachments": {},
   "cell_type": "markdown",
   "metadata": {},
   "source": [
    "##Main file for QCP"
   ]
  },
  {
   "cell_type": "code",
   "execution_count": null,
   "metadata": {},
   "outputs": [],
   "source": [
    "# importing all the necessary files\n",
    "from register.QuantumRegister import *\n",
    "from register.grovers import *\n",
    "from register.deutsch import * \n",
    "from register.deutschJozsa import * "
   ]
  },
  {
   "attachments": {},
   "cell_type": "markdown",
   "metadata": {},
   "source": [
    "To create a quantum register, simply call the class and initialise with the number of qubits required for the register. The number of states will be 2**(number of qubits). A specific state can be initialised by using state = (index of state), however this is automatically initialised as state 0 if not given.\n"
   ]
  },
  {
   "cell_type": "code",
   "execution_count": null,
   "metadata": {},
   "outputs": [],
   "source": [
    "reg = QuantumRegister(3)\n",
    "print(f\"State Vector: {reg.state_}\")\n",
    "print(f\"Number of qubits: {reg.n_qubits_}\")\n",
    "print(f\"Number of states: {reg.n_states_}\")\n",
    "print(f\"Register in State: {reg.measureState()}\")\n",
    "\n"
   ]
  },
  {
   "attachments": {},
   "cell_type": "markdown",
   "metadata": {},
   "source": [
    "The class stores several basic gates, including the hadamard, and the pauli X, Y and Z gates. This makes a universal set of gates, and so any quantum circuit can be made by using these gates. "
   ]
  },
  {
   "cell_type": "code",
   "execution_count": null,
   "metadata": {},
   "outputs": [],
   "source": [
    "hadamard = reg.hadamard\n",
    "pauli_x = reg.pauli_x \n",
    "\n",
    "print(hadamard, pauli_x, sep = \"\\n\")"
   ]
  },
  {
   "attachments": {},
   "cell_type": "markdown",
   "metadata": {},
   "source": [
    "A gate is applied to a target qubit by using the applyGate function. This takes in a 2x2 unitary gate, the index of a target qubit and optionally the index of a control qubit. This implementation allows for any 2x2 unitary gate to be applied to the register, and so even if the gate isnt stored in the class, it can be applied to the register. "
   ]
  },
  {
   "cell_type": "code",
   "execution_count": null,
   "metadata": {},
   "outputs": [],
   "source": [
    "reg.setEqualSuperposition()\n",
    "reg.applyGate(gate = reg.hadamard, target = 2)\n",
    "print(reg.state_)\n",
    "reg.applyGate(gate = reg.pauli_x, target = 1, control = 0)\n",
    "print(reg.state_)"
   ]
  },
  {
   "attachments": {},
   "cell_type": "markdown",
   "metadata": {},
   "source": [
    "The state can be measured using the measureState function, however this will collapse the state vector. "
   ]
  },
  {
   "cell_type": "code",
   "execution_count": null,
   "metadata": {},
   "outputs": [],
   "source": [
    "register = QuantumRegister(3)\n",
    "register.setEqualSuperposition()\n",
    "print(register.state_)\n",
    "state = register.measureState()\n",
    "print(register.state_)\n",
    "print(f\"State: {state}\")\n"
   ]
  },
  {
   "attachments": {},
   "cell_type": "markdown",
   "metadata": {},
   "source": [
    "The probability of any given state can be found using the getStateProbability function, this wont collapse the state vector. This function either takes in the index of the state, or a bitstring representing the qubits binary state. "
   ]
  },
  {
   "cell_type": "code",
   "execution_count": null,
   "metadata": {},
   "outputs": [],
   "source": [
    "reg = QuantumRegister(3)\n",
    "reg.setEqualSuperposition()\n",
    "print(reg.state_)\n",
    "print(f\"Probability of state 1: {reg.getStateProbability(1)}\")"
   ]
  },
  {
   "attachments": {},
   "cell_type": "markdown",
   "metadata": {},
   "source": [
    "Because collapsing the state is probablistic when the register is entangled, the returned state may not be the most probable. Using the measureStateNTimes function, which intakes an integer n, it will collapse the state n times and count how many times it collapses into each state. This returns a vector of length n_states_ where the value at each index represents the number of times the state collapsed into that state. "
   ]
  },
  {
   "cell_type": "code",
   "execution_count": null,
   "metadata": {},
   "outputs": [],
   "source": [
    "reg = QuantumRegister(3)\n",
    "reg.setEqualSuperposition()\n",
    "counts = reg.measureStateNTimes(8000)\n",
    "print(counts)"
   ]
  },
  {
   "attachments": {},
   "cell_type": "markdown",
   "metadata": {},
   "source": [
    "Another class has been created to run Deutsch's Algorithm. This class is initialised with a register of 2 qubits, and a balanced or constant oracle function.  "
   ]
  },
  {
   "cell_type": "code",
   "execution_count": null,
   "metadata": {},
   "outputs": [],
   "source": [
    "# balanced oracle function\n",
    "#def balanced(register):\n",
    "#\tdef oracle(a):\n",
    "#\t\treturn a % 2\n",
    "#\tfor i in range(register.n_states_):\n",
    "#\t\tregister.state_[i] *= (-1) ** oracle(i)\n",
    "#\treturn register.state_\n",
    "\n",
    "# def constant(register):\n",
    "# \tdef oracle(a):\n",
    "# \t\treturn 0\n",
    "# \tfor i in range(register.n_states_):\n",
    "# \t\tregister.state_[i] *= (-1) ** oracle(i) \n",
    "# \treturn register.state_\n",
    "\n",
    "\n",
    "def balanced(register):\n",
    "\t\n",
    "    def oracle(a):\n",
    "\t    return a%2\n",
    "\t\n",
    "    for i in range(register.n_states_):\n",
    "\t    register.state_[i] *= (-1) ** oracle(i)\n",
    "    \n",
    "    return register.state_\n",
    "\n",
    "#constant oracle function\n",
    "def constant(register):\n",
    "\tdef oracle(a):\n",
    "\t\treturn 0\n",
    "\tfor i in range(register.n_states_):\n",
    "\t\tregister.state_[i] *= (-1) ** oracle(i)\n",
    "\treturn register.state_\n",
    "\n",
    "\n",
    "def deutschMain():\n",
    "\t# This function is used to run the deutsch algorithm, it uses examples for both balanced and constant functions\n",
    "\t# The deutsch algorithm is used to evaluate a black box algorithm using a basic quantum circuit, for all constant \n",
    "\t# functions our implementation will return false and for all balanced, True\n",
    "\n",
    "\tregister = QuantumRegister(2)\n",
    "\n",
    "\tdeutschBalanced = Deutsch(balanced, register)\n",
    "\tis_balanced_one = deutschBalanced.deutschAlgorithm()\n",
    "\tprint(f\"Is balanced (Balanced Oracle): {is_balanced_one}\")\n",
    "\n",
    "\tregister = QuantumRegister(2)\n",
    "\tdeutschConstant = Deutsch(constant, register)\n",
    "\tis_balanced_two = deutschConstant.deutschAlgorithm()\n",
    "\tprint(f\"Is balanced (Constant Oracle): {is_balanced_two}\")\n",
    "\tprint(\"DONE DEUTSCH\")\n",
    "\t\n",
    "deutschMain()"
   ]
  },
  {
   "attachments": {},
   "cell_type": "markdown",
   "metadata": {},
   "source": [
    "The Deutsch-Josza Algorithm is an N qubit register implementation of Deutsch's algorithm. This class takes a register of N qubits, and a balanced or constant oracle. "
   ]
  },
  {
   "cell_type": "code",
   "execution_count": null,
   "metadata": {},
   "outputs": [],
   "source": [
    "def balanced(register):\n",
    "\t\n",
    "    def oracle(a):\n",
    "\t    return a%2\n",
    "\t\n",
    "    for i in range(register.n_states_):\n",
    "\t    register.state_[i] *= (-1) ** oracle(i)\n",
    "    \n",
    "    return register.state_\n",
    "\n",
    "#constant oracle function\n",
    "def constant(register):\n",
    "\tdef oracle(a):\n",
    "\t\treturn 0\n",
    "\tfor i in range(register.n_states_):\n",
    "\t\tregister.state_[i] *= (-1) ** oracle(i)\n",
    "\treturn register.state_\n",
    "\n",
    "def dJMain(n_qubits):\n",
    "\t# This function is used to run the deutsch algorithm, it uses examples for both balanced and constant functions\n",
    "\t# The deutsch algorithm is used to evaluate a black box algorithm using a basic quantum circuit, for all constant \n",
    "\t# functions our implementation will produce a 0 and for all balanced, a 1\n",
    "\n",
    "\tregister = QuantumRegister(n_qubits)\n",
    "\n",
    "\tdJBalanced = DeutschJozsa(balanced,register)\n",
    "\tis_balanced_one = dJBalanced.deutschJozsaAlgorithm()\n",
    "\tprint(f\"Is balanced (Balanced Oracle): {is_balanced_one}\")\n",
    "\n",
    "\tregister = QuantumRegister(n_qubits)\n",
    "\t\n",
    "\tdJConstant = DeutschJozsa(constant,register)\n",
    "\tis_balanced_two = dJConstant.deutschJozsaAlgorithm()\n",
    "\tprint(f\"Is balanced (Constant Oracle): {is_balanced_two}\")\n",
    "\tprint(\"DONE DJ\")\n",
    "\n",
    "dJMain(10)"
   ]
  },
  {
   "attachments": {},
   "cell_type": "markdown",
   "metadata": {},
   "source": [
    "The Grovers class takes in an oracle, an unordered list to search, and a register where $register.n\\_states >= len(list)$"
   ]
  },
  {
   "cell_type": "code",
   "execution_count": 194,
   "metadata": {},
   "outputs": [
    {
     "name": "stdout",
     "output_type": "stream",
     "text": [
      "Target Index: 8268\n",
      "Number of qubits: 14\n",
      "Probability of target state: 0.9999997811142223\n",
      "Probability greater than (1 - 1/N): True\n",
      "State measured: 8268\n",
      "DONE GROVERS\n"
     ]
    }
   ],
   "source": [
    "def groverMain(list_Len, target):\n",
    "\n",
    "\tn_qubits = int(np.ceil(np.log2(list_Len)))\n",
    "\tregister = QuantumRegister(n_qubits)\n",
    "\tprint(f\"Number of qubits: {register.n_qubits_}\")\n",
    "\n",
    "\t# grovers algorithm is an algorithm to sort a list using an oracle\n",
    "\t# our implementation selects the appropriate qubit number number from the list size\n",
    "\t# It can operate efficiently in under two seconds up to 21 qubits in size\n",
    "\n",
    "\tgroverList = np.random.randint(low = list_Len, size = list_Len)\n",
    "\n",
    "\tdef groverOracle(register):\n",
    "\n",
    "\t\tdef oracle(a):\n",
    "\t\t\t\n",
    "\t\t\tbit = 0\n",
    "\t\t\tif a == target:\n",
    "\t\t\t\tbit = 1\n",
    "\t\t\treturn bit\n",
    "\t\t\n",
    "\t\tfor i in range(register.n_states_):\n",
    "\t\t\tregister.state_[i] *= (-1) ** oracle(i)\n",
    "\t\treturn register.state_\n",
    "\n",
    "\tgroverExample = Grovers(groverOracle, groverList, register)\n",
    "\tgroverExample.groversAlgorithm()\n",
    "\tprint(f\"Probability of target state: {abs(groverExample.register.state_[target])**2}\")\n",
    "\tprint(f\"Probability greater than (1 - 1/N): {abs(groverExample.register.state_[target])**2 >= (1-(1/groverExample.n_states_))}\")\n",
    "\tprint(f\"State measured: {groverExample.register.measureState()}\")\n",
    "\tprint(\"DONE GROVERS\")\n",
    "\t\n",
    "length = 10000\n",
    "target = np.random.randint(low = length)\n",
    "print(f\"Target Index: {target}\")\n",
    "groverMain(length, target)"
   ]
  },
  {
   "attachments": {},
   "cell_type": "markdown",
   "metadata": {},
   "source": [
    "grovers animation"
   ]
  },
  {
   "cell_type": "code",
   "execution_count": null,
   "metadata": {},
   "outputs": [],
   "source": [
    "import matplotlib.pyplot as plt \n",
    "from matplotlib.animation import FuncAnimation\n",
    "from IPython.display import HTML, display\n",
    "import random\n",
    "\n",
    "\n",
    "qubits = 4\n",
    "wanted_state = random.randint(0, 2**qubits)\n",
    "print(f\"Wanted state is: {format(wanted_state, '0%ib' % qubits)}\")\n",
    "def oracle(register):\n",
    "    for i in range(register.n_states_):\n",
    "        if i == wanted_state:\n",
    "            register.state_[i] *= -1\n",
    "    return register.state_ \n",
    "\n",
    "    \n",
    "arr = np.arange(2**qubits) \n",
    "register = QuantumRegister(qubits)\n",
    "grovers = Grovers(oracle, arr, register)\n",
    "labels = [format(i, '0%ib' % grovers.n_qubits_) for i in range(grovers.n_states_)]\n",
    "j = 0\n",
    "amplitudes = np.zeros((grovers.iterations * 2 + 1, grovers.n_states_))\n",
    "grovers.register.setEqualSuperposition()\n",
    "for i in range(grovers.n_states_):\n",
    "    amplitudes[j, i] = grovers.register.state_[i].real \n",
    "j += 1    \n",
    "for i in range(grovers.iterations):\n",
    "    grovers.applyOracle()\n",
    "    for p in range(grovers.n_states_):\n",
    "        amplitudes[j, p] = grovers.register.state_[p].real\n",
    "    j += 1\n",
    "    grovers.flipByMean()\n",
    "    for m in range(grovers.n_states_):\n",
    "        amplitudes[j, m] = grovers.register.state_[m].real\n",
    "    j += 1\n",
    "\n",
    "    \n",
    "def animation(i):\n",
    "    fig.clear()\n",
    "    if i % 2 != 0:\n",
    "        plt.title(f\"After Oracle application\\nState Probability: {amplitudes[i, wanted_state]**2}\")\n",
    "    else:\n",
    "        plt.title(f\"After Diffusion application\\nState Probability: {amplitudes[i, wanted_state]**2}\")\n",
    "    if i == 0:\n",
    "        plt.title(f\"Wanted state: {format(wanted_state, '0%ib' % grovers.n_qubits_)}\\nState Probability: {amplitudes[i, wanted_state]**2}\", fontsize = 10)\n",
    "    plt.bar(arr, amplitudes[i, :], width = 0.5)\n",
    "    plt.ylabel(\"Amplitude\")\n",
    "    plt.xlabel(\"States\")\n",
    "    plt.xticks(arr, labels, rotation = \"vertical\")\n",
    "    \n",
    "fig = plt.figure()\n",
    "\n",
    "anim = FuncAnimation(fig, animation, frames = grovers.iterations * 2 + 1, interval = 1500, repeat = False)\n",
    "HTML(anim.to_jshtml())"
   ]
  },
  {
   "attachments": {},
   "cell_type": "markdown",
   "metadata": {},
   "source": [
    "grovers convergence graph"
   ]
  },
  {
   "cell_type": "code",
   "execution_count": null,
   "metadata": {},
   "outputs": [],
   "source": [
    "qubits = 16\n",
    "wanted_state = random.randint(0, 2**qubits)\n",
    "arr = np.arange(2**qubits)\n",
    "\n",
    "def oracle(register):\n",
    "    register.state_[wanted_state] *= -1\n",
    "    return register.state_ \n",
    "    \n",
    "register = QuantumRegister(qubits)\n",
    "grovers = Grovers(oracle, arr, register)\n",
    "probability = np.zeros(grovers.iterations + 1)\n",
    "iterations = np.arange(grovers.iterations + 1)\n",
    "\n",
    "grovers.register.setEqualSuperposition()\n",
    "\n",
    "probability[0] = abs(grovers.register.state_[wanted_state])**2 \n",
    "\n",
    "for i in range(grovers.iterations):\n",
    "    grovers.applyOracle()\n",
    "    grovers.flipByMean()\n",
    "    probability[i+1] = abs(grovers.register.state_[wanted_state])**2 \n",
    "\n",
    "plt.plot(iterations, probability, \"-\")\n",
    "plt.xlabel(\"Iteration\")\n",
    "plt.ylabel(\"Probability of target state\")\n",
    "plt.title(f\"Convergence of the target state using Grover's Algorithm\\nTarget state is: {wanted_state}\")\n",
    "plt.show()"
   ]
  }
 ],
 "metadata": {
  "kernelspec": {
   "display_name": "Python 3 (ipykernel)",
   "language": "python",
   "name": "python3"
  },
  "language_info": {
   "codemirror_mode": {
    "name": "ipython",
    "version": 3
   },
   "file_extension": ".py",
   "mimetype": "text/x-python",
   "name": "python",
   "nbconvert_exporter": "python",
   "pygments_lexer": "ipython3",
   "version": "3.10.6"
  },
  "orig_nbformat": 4
 },
 "nbformat": 4,
 "nbformat_minor": 2
}
